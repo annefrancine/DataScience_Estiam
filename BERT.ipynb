{
  "nbformat": 4,
  "nbformat_minor": 0,
  "metadata": {
    "colab": {
      "name": " BERT",
      "provenance": [],
      "authorship_tag": "ABX9TyOiXJdEoULKC9u6n+CiR1iI",
      "include_colab_link": true
    },
    "kernelspec": {
      "name": "python3",
      "display_name": "Python 3"
    },
    "language_info": {
      "name": "python"
    },
    "accelerator": "GPU",
    "widgets": {
      "application/vnd.jupyter.widget-state+json": {
        "4e7b6458fae846268b48a52477038d10": {
          "model_module": "@jupyter-widgets/controls",
          "model_name": "HBoxModel",
          "model_module_version": "1.5.0",
          "state": {
            "_view_name": "HBoxView",
            "_dom_classes": [],
            "_model_name": "HBoxModel",
            "_view_module": "@jupyter-widgets/controls",
            "_model_module_version": "1.5.0",
            "_view_count": null,
            "_view_module_version": "1.5.0",
            "box_style": "",
            "layout": "IPY_MODEL_cf0ee08b452e4171ab4d505e55cd73f6",
            "_model_module": "@jupyter-widgets/controls",
            "children": [
              "IPY_MODEL_342a995a1d154ab3841fb0f9db0f061d",
              "IPY_MODEL_c1bb914f7f944dd18b184cf2b92fbd7f",
              "IPY_MODEL_1a4162cd5a89482a95fb8e2eefaa5feb"
            ]
          }
        },
        "cf0ee08b452e4171ab4d505e55cd73f6": {
          "model_module": "@jupyter-widgets/base",
          "model_name": "LayoutModel",
          "model_module_version": "1.2.0",
          "state": {
            "_view_name": "LayoutView",
            "grid_template_rows": null,
            "right": null,
            "justify_content": null,
            "_view_module": "@jupyter-widgets/base",
            "overflow": null,
            "_model_module_version": "1.2.0",
            "_view_count": null,
            "flex_flow": null,
            "width": null,
            "min_width": null,
            "border": null,
            "align_items": null,
            "bottom": null,
            "_model_module": "@jupyter-widgets/base",
            "top": null,
            "grid_column": null,
            "overflow_y": null,
            "overflow_x": null,
            "grid_auto_flow": null,
            "grid_area": null,
            "grid_template_columns": null,
            "flex": null,
            "_model_name": "LayoutModel",
            "justify_items": null,
            "grid_row": null,
            "max_height": null,
            "align_content": null,
            "visibility": null,
            "align_self": null,
            "height": null,
            "min_height": null,
            "padding": null,
            "grid_auto_rows": null,
            "grid_gap": null,
            "max_width": null,
            "order": null,
            "_view_module_version": "1.2.0",
            "grid_template_areas": null,
            "object_position": null,
            "object_fit": null,
            "grid_auto_columns": null,
            "margin": null,
            "display": null,
            "left": null
          }
        },
        "342a995a1d154ab3841fb0f9db0f061d": {
          "model_module": "@jupyter-widgets/controls",
          "model_name": "HTMLModel",
          "model_module_version": "1.5.0",
          "state": {
            "_view_name": "HTMLView",
            "style": "IPY_MODEL_30dbe7d175104891bffded258fc0c104",
            "_dom_classes": [],
            "description": "",
            "_model_name": "HTMLModel",
            "placeholder": "​",
            "_view_module": "@jupyter-widgets/controls",
            "_model_module_version": "1.5.0",
            "value": "Downloading: 100%",
            "_view_count": null,
            "_view_module_version": "1.5.0",
            "description_tooltip": null,
            "_model_module": "@jupyter-widgets/controls",
            "layout": "IPY_MODEL_980598fbaea2438db3b4f7802dcfb977"
          }
        },
        "c1bb914f7f944dd18b184cf2b92fbd7f": {
          "model_module": "@jupyter-widgets/controls",
          "model_name": "FloatProgressModel",
          "model_module_version": "1.5.0",
          "state": {
            "_view_name": "ProgressView",
            "style": "IPY_MODEL_f3baa2bb7156472f95477c41d18e0c95",
            "_dom_classes": [],
            "description": "",
            "_model_name": "FloatProgressModel",
            "bar_style": "success",
            "max": 570,
            "_view_module": "@jupyter-widgets/controls",
            "_model_module_version": "1.5.0",
            "value": 570,
            "_view_count": null,
            "_view_module_version": "1.5.0",
            "orientation": "horizontal",
            "min": 0,
            "description_tooltip": null,
            "_model_module": "@jupyter-widgets/controls",
            "layout": "IPY_MODEL_acfa8cea9a164a04953be47ecb2610d9"
          }
        },
        "1a4162cd5a89482a95fb8e2eefaa5feb": {
          "model_module": "@jupyter-widgets/controls",
          "model_name": "HTMLModel",
          "model_module_version": "1.5.0",
          "state": {
            "_view_name": "HTMLView",
            "style": "IPY_MODEL_d6cf0ceb6df44003a85500973dd6cb42",
            "_dom_classes": [],
            "description": "",
            "_model_name": "HTMLModel",
            "placeholder": "​",
            "_view_module": "@jupyter-widgets/controls",
            "_model_module_version": "1.5.0",
            "value": " 570/570 [00:00&lt;00:00, 17.9kB/s]",
            "_view_count": null,
            "_view_module_version": "1.5.0",
            "description_tooltip": null,
            "_model_module": "@jupyter-widgets/controls",
            "layout": "IPY_MODEL_dd472033f78c43c7b7ca426c0dec042f"
          }
        },
        "30dbe7d175104891bffded258fc0c104": {
          "model_module": "@jupyter-widgets/controls",
          "model_name": "DescriptionStyleModel",
          "model_module_version": "1.5.0",
          "state": {
            "_view_name": "StyleView",
            "_model_name": "DescriptionStyleModel",
            "description_width": "",
            "_view_module": "@jupyter-widgets/base",
            "_model_module_version": "1.5.0",
            "_view_count": null,
            "_view_module_version": "1.2.0",
            "_model_module": "@jupyter-widgets/controls"
          }
        },
        "980598fbaea2438db3b4f7802dcfb977": {
          "model_module": "@jupyter-widgets/base",
          "model_name": "LayoutModel",
          "model_module_version": "1.2.0",
          "state": {
            "_view_name": "LayoutView",
            "grid_template_rows": null,
            "right": null,
            "justify_content": null,
            "_view_module": "@jupyter-widgets/base",
            "overflow": null,
            "_model_module_version": "1.2.0",
            "_view_count": null,
            "flex_flow": null,
            "width": null,
            "min_width": null,
            "border": null,
            "align_items": null,
            "bottom": null,
            "_model_module": "@jupyter-widgets/base",
            "top": null,
            "grid_column": null,
            "overflow_y": null,
            "overflow_x": null,
            "grid_auto_flow": null,
            "grid_area": null,
            "grid_template_columns": null,
            "flex": null,
            "_model_name": "LayoutModel",
            "justify_items": null,
            "grid_row": null,
            "max_height": null,
            "align_content": null,
            "visibility": null,
            "align_self": null,
            "height": null,
            "min_height": null,
            "padding": null,
            "grid_auto_rows": null,
            "grid_gap": null,
            "max_width": null,
            "order": null,
            "_view_module_version": "1.2.0",
            "grid_template_areas": null,
            "object_position": null,
            "object_fit": null,
            "grid_auto_columns": null,
            "margin": null,
            "display": null,
            "left": null
          }
        },
        "f3baa2bb7156472f95477c41d18e0c95": {
          "model_module": "@jupyter-widgets/controls",
          "model_name": "ProgressStyleModel",
          "model_module_version": "1.5.0",
          "state": {
            "_view_name": "StyleView",
            "_model_name": "ProgressStyleModel",
            "description_width": "",
            "_view_module": "@jupyter-widgets/base",
            "_model_module_version": "1.5.0",
            "_view_count": null,
            "_view_module_version": "1.2.0",
            "bar_color": null,
            "_model_module": "@jupyter-widgets/controls"
          }
        },
        "acfa8cea9a164a04953be47ecb2610d9": {
          "model_module": "@jupyter-widgets/base",
          "model_name": "LayoutModel",
          "model_module_version": "1.2.0",
          "state": {
            "_view_name": "LayoutView",
            "grid_template_rows": null,
            "right": null,
            "justify_content": null,
            "_view_module": "@jupyter-widgets/base",
            "overflow": null,
            "_model_module_version": "1.2.0",
            "_view_count": null,
            "flex_flow": null,
            "width": null,
            "min_width": null,
            "border": null,
            "align_items": null,
            "bottom": null,
            "_model_module": "@jupyter-widgets/base",
            "top": null,
            "grid_column": null,
            "overflow_y": null,
            "overflow_x": null,
            "grid_auto_flow": null,
            "grid_area": null,
            "grid_template_columns": null,
            "flex": null,
            "_model_name": "LayoutModel",
            "justify_items": null,
            "grid_row": null,
            "max_height": null,
            "align_content": null,
            "visibility": null,
            "align_self": null,
            "height": null,
            "min_height": null,
            "padding": null,
            "grid_auto_rows": null,
            "grid_gap": null,
            "max_width": null,
            "order": null,
            "_view_module_version": "1.2.0",
            "grid_template_areas": null,
            "object_position": null,
            "object_fit": null,
            "grid_auto_columns": null,
            "margin": null,
            "display": null,
            "left": null
          }
        },
        "d6cf0ceb6df44003a85500973dd6cb42": {
          "model_module": "@jupyter-widgets/controls",
          "model_name": "DescriptionStyleModel",
          "model_module_version": "1.5.0",
          "state": {
            "_view_name": "StyleView",
            "_model_name": "DescriptionStyleModel",
            "description_width": "",
            "_view_module": "@jupyter-widgets/base",
            "_model_module_version": "1.5.0",
            "_view_count": null,
            "_view_module_version": "1.2.0",
            "_model_module": "@jupyter-widgets/controls"
          }
        },
        "dd472033f78c43c7b7ca426c0dec042f": {
          "model_module": "@jupyter-widgets/base",
          "model_name": "LayoutModel",
          "model_module_version": "1.2.0",
          "state": {
            "_view_name": "LayoutView",
            "grid_template_rows": null,
            "right": null,
            "justify_content": null,
            "_view_module": "@jupyter-widgets/base",
            "overflow": null,
            "_model_module_version": "1.2.0",
            "_view_count": null,
            "flex_flow": null,
            "width": null,
            "min_width": null,
            "border": null,
            "align_items": null,
            "bottom": null,
            "_model_module": "@jupyter-widgets/base",
            "top": null,
            "grid_column": null,
            "overflow_y": null,
            "overflow_x": null,
            "grid_auto_flow": null,
            "grid_area": null,
            "grid_template_columns": null,
            "flex": null,
            "_model_name": "LayoutModel",
            "justify_items": null,
            "grid_row": null,
            "max_height": null,
            "align_content": null,
            "visibility": null,
            "align_self": null,
            "height": null,
            "min_height": null,
            "padding": null,
            "grid_auto_rows": null,
            "grid_gap": null,
            "max_width": null,
            "order": null,
            "_view_module_version": "1.2.0",
            "grid_template_areas": null,
            "object_position": null,
            "object_fit": null,
            "grid_auto_columns": null,
            "margin": null,
            "display": null,
            "left": null
          }
        },
        "a47d5a10ef0e42118f694d928c6114a0": {
          "model_module": "@jupyter-widgets/controls",
          "model_name": "HBoxModel",
          "model_module_version": "1.5.0",
          "state": {
            "_view_name": "HBoxView",
            "_dom_classes": [],
            "_model_name": "HBoxModel",
            "_view_module": "@jupyter-widgets/controls",
            "_model_module_version": "1.5.0",
            "_view_count": null,
            "_view_module_version": "1.5.0",
            "box_style": "",
            "layout": "IPY_MODEL_872985f97e88437c99abefe5c83c24f5",
            "_model_module": "@jupyter-widgets/controls",
            "children": [
              "IPY_MODEL_57d5546586ca4af78a90449ef001d23f",
              "IPY_MODEL_a56075eae8b34e5891c8740c55b373fb",
              "IPY_MODEL_cce1609c832040a785c0846dadba1e48"
            ]
          }
        },
        "872985f97e88437c99abefe5c83c24f5": {
          "model_module": "@jupyter-widgets/base",
          "model_name": "LayoutModel",
          "model_module_version": "1.2.0",
          "state": {
            "_view_name": "LayoutView",
            "grid_template_rows": null,
            "right": null,
            "justify_content": null,
            "_view_module": "@jupyter-widgets/base",
            "overflow": null,
            "_model_module_version": "1.2.0",
            "_view_count": null,
            "flex_flow": null,
            "width": null,
            "min_width": null,
            "border": null,
            "align_items": null,
            "bottom": null,
            "_model_module": "@jupyter-widgets/base",
            "top": null,
            "grid_column": null,
            "overflow_y": null,
            "overflow_x": null,
            "grid_auto_flow": null,
            "grid_area": null,
            "grid_template_columns": null,
            "flex": null,
            "_model_name": "LayoutModel",
            "justify_items": null,
            "grid_row": null,
            "max_height": null,
            "align_content": null,
            "visibility": null,
            "align_self": null,
            "height": null,
            "min_height": null,
            "padding": null,
            "grid_auto_rows": null,
            "grid_gap": null,
            "max_width": null,
            "order": null,
            "_view_module_version": "1.2.0",
            "grid_template_areas": null,
            "object_position": null,
            "object_fit": null,
            "grid_auto_columns": null,
            "margin": null,
            "display": null,
            "left": null
          }
        },
        "57d5546586ca4af78a90449ef001d23f": {
          "model_module": "@jupyter-widgets/controls",
          "model_name": "HTMLModel",
          "model_module_version": "1.5.0",
          "state": {
            "_view_name": "HTMLView",
            "style": "IPY_MODEL_11c771a767814fdb9932de46bd936af2",
            "_dom_classes": [],
            "description": "",
            "_model_name": "HTMLModel",
            "placeholder": "​",
            "_view_module": "@jupyter-widgets/controls",
            "_model_module_version": "1.5.0",
            "value": "Downloading: 100%",
            "_view_count": null,
            "_view_module_version": "1.5.0",
            "description_tooltip": null,
            "_model_module": "@jupyter-widgets/controls",
            "layout": "IPY_MODEL_36651b57255a4168a22652ffa2d68bef"
          }
        },
        "a56075eae8b34e5891c8740c55b373fb": {
          "model_module": "@jupyter-widgets/controls",
          "model_name": "FloatProgressModel",
          "model_module_version": "1.5.0",
          "state": {
            "_view_name": "ProgressView",
            "style": "IPY_MODEL_458b13164b274fa9a2e241fd8cbfd3cb",
            "_dom_classes": [],
            "description": "",
            "_model_name": "FloatProgressModel",
            "bar_style": "success",
            "max": 536063208,
            "_view_module": "@jupyter-widgets/controls",
            "_model_module_version": "1.5.0",
            "value": 536063208,
            "_view_count": null,
            "_view_module_version": "1.5.0",
            "orientation": "horizontal",
            "min": 0,
            "description_tooltip": null,
            "_model_module": "@jupyter-widgets/controls",
            "layout": "IPY_MODEL_56c5e248ae604893a1e1a0b85f5bfa28"
          }
        },
        "cce1609c832040a785c0846dadba1e48": {
          "model_module": "@jupyter-widgets/controls",
          "model_name": "HTMLModel",
          "model_module_version": "1.5.0",
          "state": {
            "_view_name": "HTMLView",
            "style": "IPY_MODEL_adb543947d5444578f2134323586c726",
            "_dom_classes": [],
            "description": "",
            "_model_name": "HTMLModel",
            "placeholder": "​",
            "_view_module": "@jupyter-widgets/controls",
            "_model_module_version": "1.5.0",
            "value": " 536M/536M [00:10&lt;00:00, 52.7MB/s]",
            "_view_count": null,
            "_view_module_version": "1.5.0",
            "description_tooltip": null,
            "_model_module": "@jupyter-widgets/controls",
            "layout": "IPY_MODEL_65a5623f85e14e77abe17addd6f12d99"
          }
        },
        "11c771a767814fdb9932de46bd936af2": {
          "model_module": "@jupyter-widgets/controls",
          "model_name": "DescriptionStyleModel",
          "model_module_version": "1.5.0",
          "state": {
            "_view_name": "StyleView",
            "_model_name": "DescriptionStyleModel",
            "description_width": "",
            "_view_module": "@jupyter-widgets/base",
            "_model_module_version": "1.5.0",
            "_view_count": null,
            "_view_module_version": "1.2.0",
            "_model_module": "@jupyter-widgets/controls"
          }
        },
        "36651b57255a4168a22652ffa2d68bef": {
          "model_module": "@jupyter-widgets/base",
          "model_name": "LayoutModel",
          "model_module_version": "1.2.0",
          "state": {
            "_view_name": "LayoutView",
            "grid_template_rows": null,
            "right": null,
            "justify_content": null,
            "_view_module": "@jupyter-widgets/base",
            "overflow": null,
            "_model_module_version": "1.2.0",
            "_view_count": null,
            "flex_flow": null,
            "width": null,
            "min_width": null,
            "border": null,
            "align_items": null,
            "bottom": null,
            "_model_module": "@jupyter-widgets/base",
            "top": null,
            "grid_column": null,
            "overflow_y": null,
            "overflow_x": null,
            "grid_auto_flow": null,
            "grid_area": null,
            "grid_template_columns": null,
            "flex": null,
            "_model_name": "LayoutModel",
            "justify_items": null,
            "grid_row": null,
            "max_height": null,
            "align_content": null,
            "visibility": null,
            "align_self": null,
            "height": null,
            "min_height": null,
            "padding": null,
            "grid_auto_rows": null,
            "grid_gap": null,
            "max_width": null,
            "order": null,
            "_view_module_version": "1.2.0",
            "grid_template_areas": null,
            "object_position": null,
            "object_fit": null,
            "grid_auto_columns": null,
            "margin": null,
            "display": null,
            "left": null
          }
        },
        "458b13164b274fa9a2e241fd8cbfd3cb": {
          "model_module": "@jupyter-widgets/controls",
          "model_name": "ProgressStyleModel",
          "model_module_version": "1.5.0",
          "state": {
            "_view_name": "StyleView",
            "_model_name": "ProgressStyleModel",
            "description_width": "",
            "_view_module": "@jupyter-widgets/base",
            "_model_module_version": "1.5.0",
            "_view_count": null,
            "_view_module_version": "1.2.0",
            "bar_color": null,
            "_model_module": "@jupyter-widgets/controls"
          }
        },
        "56c5e248ae604893a1e1a0b85f5bfa28": {
          "model_module": "@jupyter-widgets/base",
          "model_name": "LayoutModel",
          "model_module_version": "1.2.0",
          "state": {
            "_view_name": "LayoutView",
            "grid_template_rows": null,
            "right": null,
            "justify_content": null,
            "_view_module": "@jupyter-widgets/base",
            "overflow": null,
            "_model_module_version": "1.2.0",
            "_view_count": null,
            "flex_flow": null,
            "width": null,
            "min_width": null,
            "border": null,
            "align_items": null,
            "bottom": null,
            "_model_module": "@jupyter-widgets/base",
            "top": null,
            "grid_column": null,
            "overflow_y": null,
            "overflow_x": null,
            "grid_auto_flow": null,
            "grid_area": null,
            "grid_template_columns": null,
            "flex": null,
            "_model_name": "LayoutModel",
            "justify_items": null,
            "grid_row": null,
            "max_height": null,
            "align_content": null,
            "visibility": null,
            "align_self": null,
            "height": null,
            "min_height": null,
            "padding": null,
            "grid_auto_rows": null,
            "grid_gap": null,
            "max_width": null,
            "order": null,
            "_view_module_version": "1.2.0",
            "grid_template_areas": null,
            "object_position": null,
            "object_fit": null,
            "grid_auto_columns": null,
            "margin": null,
            "display": null,
            "left": null
          }
        },
        "adb543947d5444578f2134323586c726": {
          "model_module": "@jupyter-widgets/controls",
          "model_name": "DescriptionStyleModel",
          "model_module_version": "1.5.0",
          "state": {
            "_view_name": "StyleView",
            "_model_name": "DescriptionStyleModel",
            "description_width": "",
            "_view_module": "@jupyter-widgets/base",
            "_model_module_version": "1.5.0",
            "_view_count": null,
            "_view_module_version": "1.2.0",
            "_model_module": "@jupyter-widgets/controls"
          }
        },
        "65a5623f85e14e77abe17addd6f12d99": {
          "model_module": "@jupyter-widgets/base",
          "model_name": "LayoutModel",
          "model_module_version": "1.2.0",
          "state": {
            "_view_name": "LayoutView",
            "grid_template_rows": null,
            "right": null,
            "justify_content": null,
            "_view_module": "@jupyter-widgets/base",
            "overflow": null,
            "_model_module_version": "1.2.0",
            "_view_count": null,
            "flex_flow": null,
            "width": null,
            "min_width": null,
            "border": null,
            "align_items": null,
            "bottom": null,
            "_model_module": "@jupyter-widgets/base",
            "top": null,
            "grid_column": null,
            "overflow_y": null,
            "overflow_x": null,
            "grid_auto_flow": null,
            "grid_area": null,
            "grid_template_columns": null,
            "flex": null,
            "_model_name": "LayoutModel",
            "justify_items": null,
            "grid_row": null,
            "max_height": null,
            "align_content": null,
            "visibility": null,
            "align_self": null,
            "height": null,
            "min_height": null,
            "padding": null,
            "grid_auto_rows": null,
            "grid_gap": null,
            "max_width": null,
            "order": null,
            "_view_module_version": "1.2.0",
            "grid_template_areas": null,
            "object_position": null,
            "object_fit": null,
            "grid_auto_columns": null,
            "margin": null,
            "display": null,
            "left": null
          }
        },
        "06daeb1464124aadaf11412bdb85313a": {
          "model_module": "@jupyter-widgets/controls",
          "model_name": "HBoxModel",
          "model_module_version": "1.5.0",
          "state": {
            "_view_name": "HBoxView",
            "_dom_classes": [],
            "_model_name": "HBoxModel",
            "_view_module": "@jupyter-widgets/controls",
            "_model_module_version": "1.5.0",
            "_view_count": null,
            "_view_module_version": "1.5.0",
            "box_style": "",
            "layout": "IPY_MODEL_26f5ed21b39c4970b4a8efeb72cf1968",
            "_model_module": "@jupyter-widgets/controls",
            "children": [
              "IPY_MODEL_560ed2ff78c74f8dba15ae881d6f6b07",
              "IPY_MODEL_f2b86b1504f344cdb76ddcf879168b4e",
              "IPY_MODEL_8fa5328dbc0c4f159c7c1a0be543fc13"
            ]
          }
        },
        "26f5ed21b39c4970b4a8efeb72cf1968": {
          "model_module": "@jupyter-widgets/base",
          "model_name": "LayoutModel",
          "model_module_version": "1.2.0",
          "state": {
            "_view_name": "LayoutView",
            "grid_template_rows": null,
            "right": null,
            "justify_content": null,
            "_view_module": "@jupyter-widgets/base",
            "overflow": null,
            "_model_module_version": "1.2.0",
            "_view_count": null,
            "flex_flow": null,
            "width": null,
            "min_width": null,
            "border": null,
            "align_items": null,
            "bottom": null,
            "_model_module": "@jupyter-widgets/base",
            "top": null,
            "grid_column": null,
            "overflow_y": null,
            "overflow_x": null,
            "grid_auto_flow": null,
            "grid_area": null,
            "grid_template_columns": null,
            "flex": null,
            "_model_name": "LayoutModel",
            "justify_items": null,
            "grid_row": null,
            "max_height": null,
            "align_content": null,
            "visibility": null,
            "align_self": null,
            "height": null,
            "min_height": null,
            "padding": null,
            "grid_auto_rows": null,
            "grid_gap": null,
            "max_width": null,
            "order": null,
            "_view_module_version": "1.2.0",
            "grid_template_areas": null,
            "object_position": null,
            "object_fit": null,
            "grid_auto_columns": null,
            "margin": null,
            "display": null,
            "left": null
          }
        },
        "560ed2ff78c74f8dba15ae881d6f6b07": {
          "model_module": "@jupyter-widgets/controls",
          "model_name": "HTMLModel",
          "model_module_version": "1.5.0",
          "state": {
            "_view_name": "HTMLView",
            "style": "IPY_MODEL_01416b2e3bfb4c64ac63871931b2dc9c",
            "_dom_classes": [],
            "description": "",
            "_model_name": "HTMLModel",
            "placeholder": "​",
            "_view_module": "@jupyter-widgets/controls",
            "_model_module_version": "1.5.0",
            "value": "Downloading: 100%",
            "_view_count": null,
            "_view_module_version": "1.5.0",
            "description_tooltip": null,
            "_model_module": "@jupyter-widgets/controls",
            "layout": "IPY_MODEL_a2fa7ba339914b20956b277d83e14ec9"
          }
        },
        "f2b86b1504f344cdb76ddcf879168b4e": {
          "model_module": "@jupyter-widgets/controls",
          "model_name": "FloatProgressModel",
          "model_module_version": "1.5.0",
          "state": {
            "_view_name": "ProgressView",
            "style": "IPY_MODEL_78744206363045f288667d269e5f3d2e",
            "_dom_classes": [],
            "description": "",
            "_model_name": "FloatProgressModel",
            "bar_style": "success",
            "max": 231508,
            "_view_module": "@jupyter-widgets/controls",
            "_model_module_version": "1.5.0",
            "value": 231508,
            "_view_count": null,
            "_view_module_version": "1.5.0",
            "orientation": "horizontal",
            "min": 0,
            "description_tooltip": null,
            "_model_module": "@jupyter-widgets/controls",
            "layout": "IPY_MODEL_6c9e70cd2b414ecaa6d59273d44d9e8c"
          }
        },
        "8fa5328dbc0c4f159c7c1a0be543fc13": {
          "model_module": "@jupyter-widgets/controls",
          "model_name": "HTMLModel",
          "model_module_version": "1.5.0",
          "state": {
            "_view_name": "HTMLView",
            "style": "IPY_MODEL_4a4b846e15b045449f455d1f2dd3a237",
            "_dom_classes": [],
            "description": "",
            "_model_name": "HTMLModel",
            "placeholder": "​",
            "_view_module": "@jupyter-widgets/controls",
            "_model_module_version": "1.5.0",
            "value": " 232k/232k [00:00&lt;00:00, 979kB/s]",
            "_view_count": null,
            "_view_module_version": "1.5.0",
            "description_tooltip": null,
            "_model_module": "@jupyter-widgets/controls",
            "layout": "IPY_MODEL_c7e37056a94d476aa87c3f48fa75b1f5"
          }
        },
        "01416b2e3bfb4c64ac63871931b2dc9c": {
          "model_module": "@jupyter-widgets/controls",
          "model_name": "DescriptionStyleModel",
          "model_module_version": "1.5.0",
          "state": {
            "_view_name": "StyleView",
            "_model_name": "DescriptionStyleModel",
            "description_width": "",
            "_view_module": "@jupyter-widgets/base",
            "_model_module_version": "1.5.0",
            "_view_count": null,
            "_view_module_version": "1.2.0",
            "_model_module": "@jupyter-widgets/controls"
          }
        },
        "a2fa7ba339914b20956b277d83e14ec9": {
          "model_module": "@jupyter-widgets/base",
          "model_name": "LayoutModel",
          "model_module_version": "1.2.0",
          "state": {
            "_view_name": "LayoutView",
            "grid_template_rows": null,
            "right": null,
            "justify_content": null,
            "_view_module": "@jupyter-widgets/base",
            "overflow": null,
            "_model_module_version": "1.2.0",
            "_view_count": null,
            "flex_flow": null,
            "width": null,
            "min_width": null,
            "border": null,
            "align_items": null,
            "bottom": null,
            "_model_module": "@jupyter-widgets/base",
            "top": null,
            "grid_column": null,
            "overflow_y": null,
            "overflow_x": null,
            "grid_auto_flow": null,
            "grid_area": null,
            "grid_template_columns": null,
            "flex": null,
            "_model_name": "LayoutModel",
            "justify_items": null,
            "grid_row": null,
            "max_height": null,
            "align_content": null,
            "visibility": null,
            "align_self": null,
            "height": null,
            "min_height": null,
            "padding": null,
            "grid_auto_rows": null,
            "grid_gap": null,
            "max_width": null,
            "order": null,
            "_view_module_version": "1.2.0",
            "grid_template_areas": null,
            "object_position": null,
            "object_fit": null,
            "grid_auto_columns": null,
            "margin": null,
            "display": null,
            "left": null
          }
        },
        "78744206363045f288667d269e5f3d2e": {
          "model_module": "@jupyter-widgets/controls",
          "model_name": "ProgressStyleModel",
          "model_module_version": "1.5.0",
          "state": {
            "_view_name": "StyleView",
            "_model_name": "ProgressStyleModel",
            "description_width": "",
            "_view_module": "@jupyter-widgets/base",
            "_model_module_version": "1.5.0",
            "_view_count": null,
            "_view_module_version": "1.2.0",
            "bar_color": null,
            "_model_module": "@jupyter-widgets/controls"
          }
        },
        "6c9e70cd2b414ecaa6d59273d44d9e8c": {
          "model_module": "@jupyter-widgets/base",
          "model_name": "LayoutModel",
          "model_module_version": "1.2.0",
          "state": {
            "_view_name": "LayoutView",
            "grid_template_rows": null,
            "right": null,
            "justify_content": null,
            "_view_module": "@jupyter-widgets/base",
            "overflow": null,
            "_model_module_version": "1.2.0",
            "_view_count": null,
            "flex_flow": null,
            "width": null,
            "min_width": null,
            "border": null,
            "align_items": null,
            "bottom": null,
            "_model_module": "@jupyter-widgets/base",
            "top": null,
            "grid_column": null,
            "overflow_y": null,
            "overflow_x": null,
            "grid_auto_flow": null,
            "grid_area": null,
            "grid_template_columns": null,
            "flex": null,
            "_model_name": "LayoutModel",
            "justify_items": null,
            "grid_row": null,
            "max_height": null,
            "align_content": null,
            "visibility": null,
            "align_self": null,
            "height": null,
            "min_height": null,
            "padding": null,
            "grid_auto_rows": null,
            "grid_gap": null,
            "max_width": null,
            "order": null,
            "_view_module_version": "1.2.0",
            "grid_template_areas": null,
            "object_position": null,
            "object_fit": null,
            "grid_auto_columns": null,
            "margin": null,
            "display": null,
            "left": null
          }
        },
        "4a4b846e15b045449f455d1f2dd3a237": {
          "model_module": "@jupyter-widgets/controls",
          "model_name": "DescriptionStyleModel",
          "model_module_version": "1.5.0",
          "state": {
            "_view_name": "StyleView",
            "_model_name": "DescriptionStyleModel",
            "description_width": "",
            "_view_module": "@jupyter-widgets/base",
            "_model_module_version": "1.5.0",
            "_view_count": null,
            "_view_module_version": "1.2.0",
            "_model_module": "@jupyter-widgets/controls"
          }
        },
        "c7e37056a94d476aa87c3f48fa75b1f5": {
          "model_module": "@jupyter-widgets/base",
          "model_name": "LayoutModel",
          "model_module_version": "1.2.0",
          "state": {
            "_view_name": "LayoutView",
            "grid_template_rows": null,
            "right": null,
            "justify_content": null,
            "_view_module": "@jupyter-widgets/base",
            "overflow": null,
            "_model_module_version": "1.2.0",
            "_view_count": null,
            "flex_flow": null,
            "width": null,
            "min_width": null,
            "border": null,
            "align_items": null,
            "bottom": null,
            "_model_module": "@jupyter-widgets/base",
            "top": null,
            "grid_column": null,
            "overflow_y": null,
            "overflow_x": null,
            "grid_auto_flow": null,
            "grid_area": null,
            "grid_template_columns": null,
            "flex": null,
            "_model_name": "LayoutModel",
            "justify_items": null,
            "grid_row": null,
            "max_height": null,
            "align_content": null,
            "visibility": null,
            "align_self": null,
            "height": null,
            "min_height": null,
            "padding": null,
            "grid_auto_rows": null,
            "grid_gap": null,
            "max_width": null,
            "order": null,
            "_view_module_version": "1.2.0",
            "grid_template_areas": null,
            "object_position": null,
            "object_fit": null,
            "grid_auto_columns": null,
            "margin": null,
            "display": null,
            "left": null
          }
        },
        "37d7ed6e4d584c1298e70d46c1b89b31": {
          "model_module": "@jupyter-widgets/controls",
          "model_name": "HBoxModel",
          "model_module_version": "1.5.0",
          "state": {
            "_view_name": "HBoxView",
            "_dom_classes": [],
            "_model_name": "HBoxModel",
            "_view_module": "@jupyter-widgets/controls",
            "_model_module_version": "1.5.0",
            "_view_count": null,
            "_view_module_version": "1.5.0",
            "box_style": "",
            "layout": "IPY_MODEL_6a923ec45a8746c384c159277c40ae1e",
            "_model_module": "@jupyter-widgets/controls",
            "children": [
              "IPY_MODEL_3462306e9774415c9687359b3249e1a3",
              "IPY_MODEL_891291e25a2d49c78246ef81344c54df",
              "IPY_MODEL_bc3da41400c8456da1b539784038df14"
            ]
          }
        },
        "6a923ec45a8746c384c159277c40ae1e": {
          "model_module": "@jupyter-widgets/base",
          "model_name": "LayoutModel",
          "model_module_version": "1.2.0",
          "state": {
            "_view_name": "LayoutView",
            "grid_template_rows": null,
            "right": null,
            "justify_content": null,
            "_view_module": "@jupyter-widgets/base",
            "overflow": null,
            "_model_module_version": "1.2.0",
            "_view_count": null,
            "flex_flow": null,
            "width": null,
            "min_width": null,
            "border": null,
            "align_items": null,
            "bottom": null,
            "_model_module": "@jupyter-widgets/base",
            "top": null,
            "grid_column": null,
            "overflow_y": null,
            "overflow_x": null,
            "grid_auto_flow": null,
            "grid_area": null,
            "grid_template_columns": null,
            "flex": null,
            "_model_name": "LayoutModel",
            "justify_items": null,
            "grid_row": null,
            "max_height": null,
            "align_content": null,
            "visibility": null,
            "align_self": null,
            "height": null,
            "min_height": null,
            "padding": null,
            "grid_auto_rows": null,
            "grid_gap": null,
            "max_width": null,
            "order": null,
            "_view_module_version": "1.2.0",
            "grid_template_areas": null,
            "object_position": null,
            "object_fit": null,
            "grid_auto_columns": null,
            "margin": null,
            "display": null,
            "left": null
          }
        },
        "3462306e9774415c9687359b3249e1a3": {
          "model_module": "@jupyter-widgets/controls",
          "model_name": "HTMLModel",
          "model_module_version": "1.5.0",
          "state": {
            "_view_name": "HTMLView",
            "style": "IPY_MODEL_4f5238a087524bd6ba9dd08624f3f1ac",
            "_dom_classes": [],
            "description": "",
            "_model_name": "HTMLModel",
            "placeholder": "​",
            "_view_module": "@jupyter-widgets/controls",
            "_model_module_version": "1.5.0",
            "value": "Downloading: 100%",
            "_view_count": null,
            "_view_module_version": "1.5.0",
            "description_tooltip": null,
            "_model_module": "@jupyter-widgets/controls",
            "layout": "IPY_MODEL_66a7101ab0394217ab88025279e9001d"
          }
        },
        "891291e25a2d49c78246ef81344c54df": {
          "model_module": "@jupyter-widgets/controls",
          "model_name": "FloatProgressModel",
          "model_module_version": "1.5.0",
          "state": {
            "_view_name": "ProgressView",
            "style": "IPY_MODEL_d9c918b59163421d91f68659b26abfbd",
            "_dom_classes": [],
            "description": "",
            "_model_name": "FloatProgressModel",
            "bar_style": "success",
            "max": 28,
            "_view_module": "@jupyter-widgets/controls",
            "_model_module_version": "1.5.0",
            "value": 28,
            "_view_count": null,
            "_view_module_version": "1.5.0",
            "orientation": "horizontal",
            "min": 0,
            "description_tooltip": null,
            "_model_module": "@jupyter-widgets/controls",
            "layout": "IPY_MODEL_75179281e7df405a9d175f87566755b7"
          }
        },
        "bc3da41400c8456da1b539784038df14": {
          "model_module": "@jupyter-widgets/controls",
          "model_name": "HTMLModel",
          "model_module_version": "1.5.0",
          "state": {
            "_view_name": "HTMLView",
            "style": "IPY_MODEL_541701ecbbc74c40b97b4dfb08be0325",
            "_dom_classes": [],
            "description": "",
            "_model_name": "HTMLModel",
            "placeholder": "​",
            "_view_module": "@jupyter-widgets/controls",
            "_model_module_version": "1.5.0",
            "value": " 28.0/28.0 [00:00&lt;00:00, 864B/s]",
            "_view_count": null,
            "_view_module_version": "1.5.0",
            "description_tooltip": null,
            "_model_module": "@jupyter-widgets/controls",
            "layout": "IPY_MODEL_5f18ff408d454d6f9d05d918187df554"
          }
        },
        "4f5238a087524bd6ba9dd08624f3f1ac": {
          "model_module": "@jupyter-widgets/controls",
          "model_name": "DescriptionStyleModel",
          "model_module_version": "1.5.0",
          "state": {
            "_view_name": "StyleView",
            "_model_name": "DescriptionStyleModel",
            "description_width": "",
            "_view_module": "@jupyter-widgets/base",
            "_model_module_version": "1.5.0",
            "_view_count": null,
            "_view_module_version": "1.2.0",
            "_model_module": "@jupyter-widgets/controls"
          }
        },
        "66a7101ab0394217ab88025279e9001d": {
          "model_module": "@jupyter-widgets/base",
          "model_name": "LayoutModel",
          "model_module_version": "1.2.0",
          "state": {
            "_view_name": "LayoutView",
            "grid_template_rows": null,
            "right": null,
            "justify_content": null,
            "_view_module": "@jupyter-widgets/base",
            "overflow": null,
            "_model_module_version": "1.2.0",
            "_view_count": null,
            "flex_flow": null,
            "width": null,
            "min_width": null,
            "border": null,
            "align_items": null,
            "bottom": null,
            "_model_module": "@jupyter-widgets/base",
            "top": null,
            "grid_column": null,
            "overflow_y": null,
            "overflow_x": null,
            "grid_auto_flow": null,
            "grid_area": null,
            "grid_template_columns": null,
            "flex": null,
            "_model_name": "LayoutModel",
            "justify_items": null,
            "grid_row": null,
            "max_height": null,
            "align_content": null,
            "visibility": null,
            "align_self": null,
            "height": null,
            "min_height": null,
            "padding": null,
            "grid_auto_rows": null,
            "grid_gap": null,
            "max_width": null,
            "order": null,
            "_view_module_version": "1.2.0",
            "grid_template_areas": null,
            "object_position": null,
            "object_fit": null,
            "grid_auto_columns": null,
            "margin": null,
            "display": null,
            "left": null
          }
        },
        "d9c918b59163421d91f68659b26abfbd": {
          "model_module": "@jupyter-widgets/controls",
          "model_name": "ProgressStyleModel",
          "model_module_version": "1.5.0",
          "state": {
            "_view_name": "StyleView",
            "_model_name": "ProgressStyleModel",
            "description_width": "",
            "_view_module": "@jupyter-widgets/base",
            "_model_module_version": "1.5.0",
            "_view_count": null,
            "_view_module_version": "1.2.0",
            "bar_color": null,
            "_model_module": "@jupyter-widgets/controls"
          }
        },
        "75179281e7df405a9d175f87566755b7": {
          "model_module": "@jupyter-widgets/base",
          "model_name": "LayoutModel",
          "model_module_version": "1.2.0",
          "state": {
            "_view_name": "LayoutView",
            "grid_template_rows": null,
            "right": null,
            "justify_content": null,
            "_view_module": "@jupyter-widgets/base",
            "overflow": null,
            "_model_module_version": "1.2.0",
            "_view_count": null,
            "flex_flow": null,
            "width": null,
            "min_width": null,
            "border": null,
            "align_items": null,
            "bottom": null,
            "_model_module": "@jupyter-widgets/base",
            "top": null,
            "grid_column": null,
            "overflow_y": null,
            "overflow_x": null,
            "grid_auto_flow": null,
            "grid_area": null,
            "grid_template_columns": null,
            "flex": null,
            "_model_name": "LayoutModel",
            "justify_items": null,
            "grid_row": null,
            "max_height": null,
            "align_content": null,
            "visibility": null,
            "align_self": null,
            "height": null,
            "min_height": null,
            "padding": null,
            "grid_auto_rows": null,
            "grid_gap": null,
            "max_width": null,
            "order": null,
            "_view_module_version": "1.2.0",
            "grid_template_areas": null,
            "object_position": null,
            "object_fit": null,
            "grid_auto_columns": null,
            "margin": null,
            "display": null,
            "left": null
          }
        },
        "541701ecbbc74c40b97b4dfb08be0325": {
          "model_module": "@jupyter-widgets/controls",
          "model_name": "DescriptionStyleModel",
          "model_module_version": "1.5.0",
          "state": {
            "_view_name": "StyleView",
            "_model_name": "DescriptionStyleModel",
            "description_width": "",
            "_view_module": "@jupyter-widgets/base",
            "_model_module_version": "1.5.0",
            "_view_count": null,
            "_view_module_version": "1.2.0",
            "_model_module": "@jupyter-widgets/controls"
          }
        },
        "5f18ff408d454d6f9d05d918187df554": {
          "model_module": "@jupyter-widgets/base",
          "model_name": "LayoutModel",
          "model_module_version": "1.2.0",
          "state": {
            "_view_name": "LayoutView",
            "grid_template_rows": null,
            "right": null,
            "justify_content": null,
            "_view_module": "@jupyter-widgets/base",
            "overflow": null,
            "_model_module_version": "1.2.0",
            "_view_count": null,
            "flex_flow": null,
            "width": null,
            "min_width": null,
            "border": null,
            "align_items": null,
            "bottom": null,
            "_model_module": "@jupyter-widgets/base",
            "top": null,
            "grid_column": null,
            "overflow_y": null,
            "overflow_x": null,
            "grid_auto_flow": null,
            "grid_area": null,
            "grid_template_columns": null,
            "flex": null,
            "_model_name": "LayoutModel",
            "justify_items": null,
            "grid_row": null,
            "max_height": null,
            "align_content": null,
            "visibility": null,
            "align_self": null,
            "height": null,
            "min_height": null,
            "padding": null,
            "grid_auto_rows": null,
            "grid_gap": null,
            "max_width": null,
            "order": null,
            "_view_module_version": "1.2.0",
            "grid_template_areas": null,
            "object_position": null,
            "object_fit": null,
            "grid_auto_columns": null,
            "margin": null,
            "display": null,
            "left": null
          }
        },
        "74c62131f4854b219b32e8b4edeb3cb8": {
          "model_module": "@jupyter-widgets/controls",
          "model_name": "HBoxModel",
          "model_module_version": "1.5.0",
          "state": {
            "_view_name": "HBoxView",
            "_dom_classes": [],
            "_model_name": "HBoxModel",
            "_view_module": "@jupyter-widgets/controls",
            "_model_module_version": "1.5.0",
            "_view_count": null,
            "_view_module_version": "1.5.0",
            "box_style": "",
            "layout": "IPY_MODEL_e906764a6c2c4c6f84ee9266ef953d60",
            "_model_module": "@jupyter-widgets/controls",
            "children": [
              "IPY_MODEL_48b59ae90c2a4d138bd66f11aaefbee6",
              "IPY_MODEL_8c26a33eb371421bbf418e65599c98b9",
              "IPY_MODEL_6649a3bb0d544dceba8d0b7bbcc16a3b"
            ]
          }
        },
        "e906764a6c2c4c6f84ee9266ef953d60": {
          "model_module": "@jupyter-widgets/base",
          "model_name": "LayoutModel",
          "model_module_version": "1.2.0",
          "state": {
            "_view_name": "LayoutView",
            "grid_template_rows": null,
            "right": null,
            "justify_content": null,
            "_view_module": "@jupyter-widgets/base",
            "overflow": null,
            "_model_module_version": "1.2.0",
            "_view_count": null,
            "flex_flow": null,
            "width": null,
            "min_width": null,
            "border": null,
            "align_items": null,
            "bottom": null,
            "_model_module": "@jupyter-widgets/base",
            "top": null,
            "grid_column": null,
            "overflow_y": null,
            "overflow_x": null,
            "grid_auto_flow": null,
            "grid_area": null,
            "grid_template_columns": null,
            "flex": null,
            "_model_name": "LayoutModel",
            "justify_items": null,
            "grid_row": null,
            "max_height": null,
            "align_content": null,
            "visibility": null,
            "align_self": null,
            "height": null,
            "min_height": null,
            "padding": null,
            "grid_auto_rows": null,
            "grid_gap": null,
            "max_width": null,
            "order": null,
            "_view_module_version": "1.2.0",
            "grid_template_areas": null,
            "object_position": null,
            "object_fit": null,
            "grid_auto_columns": null,
            "margin": null,
            "display": null,
            "left": null
          }
        },
        "48b59ae90c2a4d138bd66f11aaefbee6": {
          "model_module": "@jupyter-widgets/controls",
          "model_name": "HTMLModel",
          "model_module_version": "1.5.0",
          "state": {
            "_view_name": "HTMLView",
            "style": "IPY_MODEL_2b23baf56eb14f91b9c8f8bfd62f4464",
            "_dom_classes": [],
            "description": "",
            "_model_name": "HTMLModel",
            "placeholder": "​",
            "_view_module": "@jupyter-widgets/controls",
            "_model_module_version": "1.5.0",
            "value": "Downloading: 100%",
            "_view_count": null,
            "_view_module_version": "1.5.0",
            "description_tooltip": null,
            "_model_module": "@jupyter-widgets/controls",
            "layout": "IPY_MODEL_6092a0a4953d472e8fbf3794a1cffa8f"
          }
        },
        "8c26a33eb371421bbf418e65599c98b9": {
          "model_module": "@jupyter-widgets/controls",
          "model_name": "FloatProgressModel",
          "model_module_version": "1.5.0",
          "state": {
            "_view_name": "ProgressView",
            "style": "IPY_MODEL_553c842159884f6a90206e1bb69ccc51",
            "_dom_classes": [],
            "description": "",
            "_model_name": "FloatProgressModel",
            "bar_style": "success",
            "max": 466062,
            "_view_module": "@jupyter-widgets/controls",
            "_model_module_version": "1.5.0",
            "value": 466062,
            "_view_count": null,
            "_view_module_version": "1.5.0",
            "orientation": "horizontal",
            "min": 0,
            "description_tooltip": null,
            "_model_module": "@jupyter-widgets/controls",
            "layout": "IPY_MODEL_ca4d6d91a9ca4cc8aadf0a08aa20603b"
          }
        },
        "6649a3bb0d544dceba8d0b7bbcc16a3b": {
          "model_module": "@jupyter-widgets/controls",
          "model_name": "HTMLModel",
          "model_module_version": "1.5.0",
          "state": {
            "_view_name": "HTMLView",
            "style": "IPY_MODEL_24ae6e8bdc184d138185a315509e9fbd",
            "_dom_classes": [],
            "description": "",
            "_model_name": "HTMLModel",
            "placeholder": "​",
            "_view_module": "@jupyter-widgets/controls",
            "_model_module_version": "1.5.0",
            "value": " 466k/466k [00:00&lt;00:00, 1.09MB/s]",
            "_view_count": null,
            "_view_module_version": "1.5.0",
            "description_tooltip": null,
            "_model_module": "@jupyter-widgets/controls",
            "layout": "IPY_MODEL_ba21819b7ac04b719cbc4051cedd54c7"
          }
        },
        "2b23baf56eb14f91b9c8f8bfd62f4464": {
          "model_module": "@jupyter-widgets/controls",
          "model_name": "DescriptionStyleModel",
          "model_module_version": "1.5.0",
          "state": {
            "_view_name": "StyleView",
            "_model_name": "DescriptionStyleModel",
            "description_width": "",
            "_view_module": "@jupyter-widgets/base",
            "_model_module_version": "1.5.0",
            "_view_count": null,
            "_view_module_version": "1.2.0",
            "_model_module": "@jupyter-widgets/controls"
          }
        },
        "6092a0a4953d472e8fbf3794a1cffa8f": {
          "model_module": "@jupyter-widgets/base",
          "model_name": "LayoutModel",
          "model_module_version": "1.2.0",
          "state": {
            "_view_name": "LayoutView",
            "grid_template_rows": null,
            "right": null,
            "justify_content": null,
            "_view_module": "@jupyter-widgets/base",
            "overflow": null,
            "_model_module_version": "1.2.0",
            "_view_count": null,
            "flex_flow": null,
            "width": null,
            "min_width": null,
            "border": null,
            "align_items": null,
            "bottom": null,
            "_model_module": "@jupyter-widgets/base",
            "top": null,
            "grid_column": null,
            "overflow_y": null,
            "overflow_x": null,
            "grid_auto_flow": null,
            "grid_area": null,
            "grid_template_columns": null,
            "flex": null,
            "_model_name": "LayoutModel",
            "justify_items": null,
            "grid_row": null,
            "max_height": null,
            "align_content": null,
            "visibility": null,
            "align_self": null,
            "height": null,
            "min_height": null,
            "padding": null,
            "grid_auto_rows": null,
            "grid_gap": null,
            "max_width": null,
            "order": null,
            "_view_module_version": "1.2.0",
            "grid_template_areas": null,
            "object_position": null,
            "object_fit": null,
            "grid_auto_columns": null,
            "margin": null,
            "display": null,
            "left": null
          }
        },
        "553c842159884f6a90206e1bb69ccc51": {
          "model_module": "@jupyter-widgets/controls",
          "model_name": "ProgressStyleModel",
          "model_module_version": "1.5.0",
          "state": {
            "_view_name": "StyleView",
            "_model_name": "ProgressStyleModel",
            "description_width": "",
            "_view_module": "@jupyter-widgets/base",
            "_model_module_version": "1.5.0",
            "_view_count": null,
            "_view_module_version": "1.2.0",
            "bar_color": null,
            "_model_module": "@jupyter-widgets/controls"
          }
        },
        "ca4d6d91a9ca4cc8aadf0a08aa20603b": {
          "model_module": "@jupyter-widgets/base",
          "model_name": "LayoutModel",
          "model_module_version": "1.2.0",
          "state": {
            "_view_name": "LayoutView",
            "grid_template_rows": null,
            "right": null,
            "justify_content": null,
            "_view_module": "@jupyter-widgets/base",
            "overflow": null,
            "_model_module_version": "1.2.0",
            "_view_count": null,
            "flex_flow": null,
            "width": null,
            "min_width": null,
            "border": null,
            "align_items": null,
            "bottom": null,
            "_model_module": "@jupyter-widgets/base",
            "top": null,
            "grid_column": null,
            "overflow_y": null,
            "overflow_x": null,
            "grid_auto_flow": null,
            "grid_area": null,
            "grid_template_columns": null,
            "flex": null,
            "_model_name": "LayoutModel",
            "justify_items": null,
            "grid_row": null,
            "max_height": null,
            "align_content": null,
            "visibility": null,
            "align_self": null,
            "height": null,
            "min_height": null,
            "padding": null,
            "grid_auto_rows": null,
            "grid_gap": null,
            "max_width": null,
            "order": null,
            "_view_module_version": "1.2.0",
            "grid_template_areas": null,
            "object_position": null,
            "object_fit": null,
            "grid_auto_columns": null,
            "margin": null,
            "display": null,
            "left": null
          }
        },
        "24ae6e8bdc184d138185a315509e9fbd": {
          "model_module": "@jupyter-widgets/controls",
          "model_name": "DescriptionStyleModel",
          "model_module_version": "1.5.0",
          "state": {
            "_view_name": "StyleView",
            "_model_name": "DescriptionStyleModel",
            "description_width": "",
            "_view_module": "@jupyter-widgets/base",
            "_model_module_version": "1.5.0",
            "_view_count": null,
            "_view_module_version": "1.2.0",
            "_model_module": "@jupyter-widgets/controls"
          }
        },
        "ba21819b7ac04b719cbc4051cedd54c7": {
          "model_module": "@jupyter-widgets/base",
          "model_name": "LayoutModel",
          "model_module_version": "1.2.0",
          "state": {
            "_view_name": "LayoutView",
            "grid_template_rows": null,
            "right": null,
            "justify_content": null,
            "_view_module": "@jupyter-widgets/base",
            "overflow": null,
            "_model_module_version": "1.2.0",
            "_view_count": null,
            "flex_flow": null,
            "width": null,
            "min_width": null,
            "border": null,
            "align_items": null,
            "bottom": null,
            "_model_module": "@jupyter-widgets/base",
            "top": null,
            "grid_column": null,
            "overflow_y": null,
            "overflow_x": null,
            "grid_auto_flow": null,
            "grid_area": null,
            "grid_template_columns": null,
            "flex": null,
            "_model_name": "LayoutModel",
            "justify_items": null,
            "grid_row": null,
            "max_height": null,
            "align_content": null,
            "visibility": null,
            "align_self": null,
            "height": null,
            "min_height": null,
            "padding": null,
            "grid_auto_rows": null,
            "grid_gap": null,
            "max_width": null,
            "order": null,
            "_view_module_version": "1.2.0",
            "grid_template_areas": null,
            "object_position": null,
            "object_fit": null,
            "grid_auto_columns": null,
            "margin": null,
            "display": null,
            "left": null
          }
        }
      }
    }
  },
  "cells": [
    {
      "cell_type": "markdown",
      "metadata": {
        "id": "view-in-github",
        "colab_type": "text"
      },
      "source": [
        "<a href=\"https://colab.research.google.com/github/annefrancine/DataScience_Estiam/blob/main/BERT.ipynb\" target=\"_parent\"><img src=\"https://colab.research.google.com/assets/colab-badge.svg\" alt=\"Open In Colab\"/></a>"
      ]
    },
    {
      "cell_type": "markdown",
      "metadata": {
        "id": "-1PLfonJ8WtD"
      },
      "source": [
        "## Qu'est-ce que BERT?\n",
        "\n",
        "BERT est l'acronyme de Bidirectional Encoder Representations from Transformers.Il s'agit d'un modèle d'apprentissage automatique de pointe utilisé pour les tâches NLP. Jacob Devlin et ses collègues ont développé BERT chez Google en 2018. Devlin et ses collègues ont formé le BERT sur Wikipedia anglais (2500 millions de mots) et BooksCorpus (800 millions de mots) et ont obtenu les meilleures précisions pour certaines des tâches de PNL en 2018. Il y en a deux Variations générales pré-entraînées du BERT: le modèle de base est une architecture de réseau neuronal à 12 couches, 768 masquées, 12 têtes, 110M paramètres, tandis que le grand modèle est un paramètre à 24 couches, 1024 masqués, 16 têtes, 340M architecture de réseau neuronal. La figure 2 montre la visualisation du réseau BERT créé par Devlin et al."
      ]
    },
    {
      "cell_type": "markdown",
      "metadata": {
        "id": "i_-ql8VmJUuz"
      },
      "source": [
        "documentation : https://huggingface.co/transformers/model_doc/bert.html"
      ]
    },
    {
      "cell_type": "markdown",
      "metadata": {
        "id": "mbNsLdUn8cBu"
      },
      "source": [
        "![image.png](data:image/png;base64,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)"
      ]
    },
    {
      "cell_type": "markdown",
      "metadata": {
        "id": "Lc1JjK2z8vGf"
      },
      "source": [
        ""
      ]
    },
    {
      "cell_type": "markdown",
      "metadata": {
        "id": "bm_YwnEM8PXd"
      },
      "source": [
        "## Analyse des sentiments avec BERT\n",
        "Maintenant que nous avons couvert les bases de BERT et Hugging Face , nous pouvons plonger dans notre tutoriel. Nous allons effectuer les opérations suivantes pour former un modèle d'analyse des sentiments:\n",
        "\n",
        "Installer la bibliothèque Transformers;\n",
        "Chargez le classificateur BERT et le Tokenizer avec des modules d'entrée;\n",
        "Téléchargez les données d'examen IMDB et créez un ensemble de données traité (cela prendra plusieurs opérations;\n",
        "Configurer le modèle BERT chargé et s'entraîner pour un réglage fin\n",
        "Faire des prédictions avec le modèle affiné"
      ]
    },
    {
      "cell_type": "markdown",
      "metadata": {
        "id": "Pl-3RPY487M1"
      },
      "source": [
        "## Installation de transformateurs:\n",
        "\n",
        "L'installation de la bibliothèque Transformers est assez simple. Exécutez simplement la ligne pip suivante sur une cellule Google Colab:"
      ]
    },
    {
      "cell_type": "code",
      "metadata": {
        "colab": {
          "base_uri": "https://localhost:8080/"
        },
        "id": "_-fgD8Hn8_uE",
        "outputId": "60833843-35b7-4335-afb5-b4588a90b5d3"
      },
      "source": [
        "!pip install transformers"
      ],
      "execution_count": null,
      "outputs": [
        {
          "output_type": "stream",
          "name": "stdout",
          "text": [
            "Collecting transformers\n",
            "  Downloading transformers-4.10.0-py3-none-any.whl (2.8 MB)\n",
            "\u001b[K     |████████████████████████████████| 2.8 MB 9.4 MB/s \n",
            "\u001b[?25hCollecting tokenizers<0.11,>=0.10.1\n",
            "  Downloading tokenizers-0.10.3-cp37-cp37m-manylinux_2_5_x86_64.manylinux1_x86_64.manylinux_2_12_x86_64.manylinux2010_x86_64.whl (3.3 MB)\n",
            "\u001b[K     |████████████████████████████████| 3.3 MB 46.1 MB/s \n",
            "\u001b[?25hCollecting huggingface-hub>=0.0.12\n",
            "  Downloading huggingface_hub-0.0.16-py3-none-any.whl (50 kB)\n",
            "\u001b[K     |████████████████████████████████| 50 kB 4.1 MB/s \n",
            "\u001b[?25hRequirement already satisfied: importlib-metadata in /usr/local/lib/python3.7/dist-packages (from transformers) (4.6.4)\n",
            "Collecting sacremoses\n",
            "  Downloading sacremoses-0.0.45-py3-none-any.whl (895 kB)\n",
            "\u001b[K     |████████████████████████████████| 895 kB 68.6 MB/s \n",
            "\u001b[?25hCollecting pyyaml>=5.1\n",
            "  Downloading PyYAML-5.4.1-cp37-cp37m-manylinux1_x86_64.whl (636 kB)\n",
            "\u001b[K     |████████████████████████████████| 636 kB 66.0 MB/s \n",
            "\u001b[?25hRequirement already satisfied: numpy>=1.17 in /usr/local/lib/python3.7/dist-packages (from transformers) (1.19.5)\n",
            "Requirement already satisfied: packaging in /usr/local/lib/python3.7/dist-packages (from transformers) (21.0)\n",
            "Requirement already satisfied: regex!=2019.12.17 in /usr/local/lib/python3.7/dist-packages (from transformers) (2019.12.20)\n",
            "Requirement already satisfied: tqdm>=4.27 in /usr/local/lib/python3.7/dist-packages (from transformers) (4.62.0)\n",
            "Requirement already satisfied: requests in /usr/local/lib/python3.7/dist-packages (from transformers) (2.23.0)\n",
            "Requirement already satisfied: filelock in /usr/local/lib/python3.7/dist-packages (from transformers) (3.0.12)\n",
            "Requirement already satisfied: typing-extensions in /usr/local/lib/python3.7/dist-packages (from huggingface-hub>=0.0.12->transformers) (3.7.4.3)\n",
            "Requirement already satisfied: pyparsing>=2.0.2 in /usr/local/lib/python3.7/dist-packages (from packaging->transformers) (2.4.7)\n",
            "Requirement already satisfied: zipp>=0.5 in /usr/local/lib/python3.7/dist-packages (from importlib-metadata->transformers) (3.5.0)\n",
            "Requirement already satisfied: certifi>=2017.4.17 in /usr/local/lib/python3.7/dist-packages (from requests->transformers) (2021.5.30)\n",
            "Requirement already satisfied: chardet<4,>=3.0.2 in /usr/local/lib/python3.7/dist-packages (from requests->transformers) (3.0.4)\n",
            "Requirement already satisfied: idna<3,>=2.5 in /usr/local/lib/python3.7/dist-packages (from requests->transformers) (2.10)\n",
            "Requirement already satisfied: urllib3!=1.25.0,!=1.25.1,<1.26,>=1.21.1 in /usr/local/lib/python3.7/dist-packages (from requests->transformers) (1.24.3)\n",
            "Requirement already satisfied: six in /usr/local/lib/python3.7/dist-packages (from sacremoses->transformers) (1.15.0)\n",
            "Requirement already satisfied: joblib in /usr/local/lib/python3.7/dist-packages (from sacremoses->transformers) (1.0.1)\n",
            "Requirement already satisfied: click in /usr/local/lib/python3.7/dist-packages (from sacremoses->transformers) (7.1.2)\n",
            "Installing collected packages: tokenizers, sacremoses, pyyaml, huggingface-hub, transformers\n",
            "  Attempting uninstall: pyyaml\n",
            "    Found existing installation: PyYAML 3.13\n",
            "    Uninstalling PyYAML-3.13:\n",
            "      Successfully uninstalled PyYAML-3.13\n",
            "Successfully installed huggingface-hub-0.0.16 pyyaml-5.4.1 sacremoses-0.0.45 tokenizers-0.10.3 transformers-4.10.0\n"
          ]
        }
      ]
    },
    {
      "cell_type": "markdown",
      "metadata": {
        "id": "sT5b-yjQ9EUw"
      },
      "source": [
        "Une fois l'installation terminée, nous chargerons le tokenizer et le classificateur de séquence BERT pré-entraînés ainsi que InputExampleet InputFeatures. Ensuite, nous allons construire notre modèle avec le classificateur de séquence et notre tokenizer avec le Tokenizer de BERT."
      ]
    },
    {
      "cell_type": "code",
      "metadata": {
        "colab": {
          "base_uri": "https://localhost:8080/",
          "height": 248,
          "referenced_widgets": [
            "4e7b6458fae846268b48a52477038d10",
            "cf0ee08b452e4171ab4d505e55cd73f6",
            "342a995a1d154ab3841fb0f9db0f061d",
            "c1bb914f7f944dd18b184cf2b92fbd7f",
            "1a4162cd5a89482a95fb8e2eefaa5feb",
            "30dbe7d175104891bffded258fc0c104",
            "980598fbaea2438db3b4f7802dcfb977",
            "f3baa2bb7156472f95477c41d18e0c95",
            "acfa8cea9a164a04953be47ecb2610d9",
            "d6cf0ceb6df44003a85500973dd6cb42",
            "dd472033f78c43c7b7ca426c0dec042f",
            "a47d5a10ef0e42118f694d928c6114a0",
            "872985f97e88437c99abefe5c83c24f5",
            "57d5546586ca4af78a90449ef001d23f",
            "a56075eae8b34e5891c8740c55b373fb",
            "cce1609c832040a785c0846dadba1e48",
            "11c771a767814fdb9932de46bd936af2",
            "36651b57255a4168a22652ffa2d68bef",
            "458b13164b274fa9a2e241fd8cbfd3cb",
            "56c5e248ae604893a1e1a0b85f5bfa28",
            "adb543947d5444578f2134323586c726",
            "65a5623f85e14e77abe17addd6f12d99",
            "06daeb1464124aadaf11412bdb85313a",
            "26f5ed21b39c4970b4a8efeb72cf1968",
            "560ed2ff78c74f8dba15ae881d6f6b07",
            "f2b86b1504f344cdb76ddcf879168b4e",
            "8fa5328dbc0c4f159c7c1a0be543fc13",
            "01416b2e3bfb4c64ac63871931b2dc9c",
            "a2fa7ba339914b20956b277d83e14ec9",
            "78744206363045f288667d269e5f3d2e",
            "6c9e70cd2b414ecaa6d59273d44d9e8c",
            "4a4b846e15b045449f455d1f2dd3a237",
            "c7e37056a94d476aa87c3f48fa75b1f5",
            "37d7ed6e4d584c1298e70d46c1b89b31",
            "6a923ec45a8746c384c159277c40ae1e",
            "3462306e9774415c9687359b3249e1a3",
            "891291e25a2d49c78246ef81344c54df",
            "bc3da41400c8456da1b539784038df14",
            "4f5238a087524bd6ba9dd08624f3f1ac",
            "66a7101ab0394217ab88025279e9001d",
            "d9c918b59163421d91f68659b26abfbd",
            "75179281e7df405a9d175f87566755b7",
            "541701ecbbc74c40b97b4dfb08be0325",
            "5f18ff408d454d6f9d05d918187df554",
            "74c62131f4854b219b32e8b4edeb3cb8",
            "e906764a6c2c4c6f84ee9266ef953d60",
            "48b59ae90c2a4d138bd66f11aaefbee6",
            "8c26a33eb371421bbf418e65599c98b9",
            "6649a3bb0d544dceba8d0b7bbcc16a3b",
            "2b23baf56eb14f91b9c8f8bfd62f4464",
            "6092a0a4953d472e8fbf3794a1cffa8f",
            "553c842159884f6a90206e1bb69ccc51",
            "ca4d6d91a9ca4cc8aadf0a08aa20603b",
            "24ae6e8bdc184d138185a315509e9fbd",
            "ba21819b7ac04b719cbc4051cedd54c7"
          ]
        },
        "id": "Siiv8fCz9ISC",
        "outputId": "dd411e10-0aba-4cc9-cf94-57a17734ee13"
      },
      "source": [
        "from transformers import BertTokenizer, TFBertForSequenceClassification\n",
        "from transformers import InputExample, InputFeatures\n",
        "\n",
        "model = TFBertForSequenceClassification.from_pretrained(\"bert-base-uncased\")\n",
        "tokenizer = BertTokenizer.from_pretrained(\"bert-base-uncased\")"
      ],
      "execution_count": null,
      "outputs": [
        {
          "output_type": "display_data",
          "data": {
            "application/vnd.jupyter.widget-view+json": {
              "model_id": "4e7b6458fae846268b48a52477038d10",
              "version_minor": 0,
              "version_major": 2
            },
            "text/plain": [
              "Downloading:   0%|          | 0.00/570 [00:00<?, ?B/s]"
            ]
          },
          "metadata": {}
        },
        {
          "output_type": "display_data",
          "data": {
            "application/vnd.jupyter.widget-view+json": {
              "model_id": "a47d5a10ef0e42118f694d928c6114a0",
              "version_minor": 0,
              "version_major": 2
            },
            "text/plain": [
              "Downloading:   0%|          | 0.00/536M [00:00<?, ?B/s]"
            ]
          },
          "metadata": {}
        },
        {
          "output_type": "stream",
          "name": "stderr",
          "text": [
            "All model checkpoint layers were used when initializing TFBertForSequenceClassification.\n",
            "\n",
            "Some layers of TFBertForSequenceClassification were not initialized from the model checkpoint at bert-base-uncased and are newly initialized: ['classifier']\n",
            "You should probably TRAIN this model on a down-stream task to be able to use it for predictions and inference.\n"
          ]
        },
        {
          "output_type": "display_data",
          "data": {
            "application/vnd.jupyter.widget-view+json": {
              "model_id": "06daeb1464124aadaf11412bdb85313a",
              "version_minor": 0,
              "version_major": 2
            },
            "text/plain": [
              "Downloading:   0%|          | 0.00/232k [00:00<?, ?B/s]"
            ]
          },
          "metadata": {}
        },
        {
          "output_type": "display_data",
          "data": {
            "application/vnd.jupyter.widget-view+json": {
              "model_id": "37d7ed6e4d584c1298e70d46c1b89b31",
              "version_minor": 0,
              "version_major": 2
            },
            "text/plain": [
              "Downloading:   0%|          | 0.00/28.0 [00:00<?, ?B/s]"
            ]
          },
          "metadata": {}
        },
        {
          "output_type": "display_data",
          "data": {
            "application/vnd.jupyter.widget-view+json": {
              "model_id": "74c62131f4854b219b32e8b4edeb3cb8",
              "version_minor": 0,
              "version_major": 2
            },
            "text/plain": [
              "Downloading:   0%|          | 0.00/466k [00:00<?, ?B/s]"
            ]
          },
          "metadata": {}
        }
      ]
    },
    {
      "cell_type": "code",
      "metadata": {
        "colab": {
          "base_uri": "https://localhost:8080/"
        },
        "id": "6Ky_Cx6x9UTh",
        "outputId": "435dbc61-b431-4eb0-eae1-546063806cd1"
      },
      "source": [
        "model.summary()\n",
        "# Voici les résultats. Nous avons le modèle BERT principal, une couche d'abandon\n",
        "# pour éviter le surajustement, et enfin une couche dense pour la tâche de classification:"
      ],
      "execution_count": null,
      "outputs": [
        {
          "output_type": "stream",
          "name": "stdout",
          "text": [
            "Model: \"tf_bert_for_sequence_classification\"\n",
            "_________________________________________________________________\n",
            "Layer (type)                 Output Shape              Param #   \n",
            "=================================================================\n",
            "bert (TFBertMainLayer)       multiple                  109482240 \n",
            "_________________________________________________________________\n",
            "dropout_37 (Dropout)         multiple                  0         \n",
            "_________________________________________________________________\n",
            "classifier (Dense)           multiple                  1538      \n",
            "=================================================================\n",
            "Total params: 109,483,778\n",
            "Trainable params: 109,483,778\n",
            "Non-trainable params: 0\n",
            "_________________________________________________________________\n"
          ]
        }
      ]
    },
    {
      "cell_type": "markdown",
      "metadata": {
        "id": "JeTuHUMC9f9e"
      },
      "source": [
        "## Ensemble de données IMDB\n",
        "IMDB Reviews Dataset est un grand ensemble de données de critiques de films collecté et préparé par Andrew L. Maas à partir du service de classification de films populaire, IMDB . L' ensemble de données IMDB Reviews est utilisé pour la classification des sentiments binaires, qu'un avis soit positif ou négatif. Il contient 25 000 critiques de films pour la formation et 25 000 pour les tests. Tous ces 50000 avis sont des données étiquetées qui peuvent être utilisées pour un apprentissage en profondeur supervisé. En outre, il y a 50 000 avis non étiquetés supplémentaires que nous n'utiliserons pas dans cette étude de cas. Dans cette étude de cas, nous n'utiliserons que l'ensemble de données d'entraînement.\n",
        "\n",
        "## Importations initiales\n",
        "Nous aurons d'abord deux importations: TensorFlow et Pandas"
      ]
    },
    {
      "cell_type": "code",
      "metadata": {
        "id": "xfwbAWAl6e4i"
      },
      "source": [
        "import tensorflow as tf\n",
        "import pandas as pd"
      ],
      "execution_count": null,
      "outputs": []
    },
    {
      "cell_type": "markdown",
      "metadata": {
        "id": "IjpjSXEz7vr1"
      },
      "source": [
        "## Obtenez les données du Stanford Repo: \n",
        "\n",
        "Ensuite, nous pouvons télécharger l'ensemble de données à partir du répertoire pertinent de Stanford avec la tf.keras.utils.get_filefonction, comme indiqué ci-dessous:"
      ]
    },
    {
      "cell_type": "markdown",
      "metadata": {
        "id": "vnz6jtg18LLg"
      },
      "source": [
        ""
      ]
    },
    {
      "cell_type": "code",
      "metadata": {
        "colab": {
          "base_uri": "https://localhost:8080/"
        },
        "id": "0FpS-uLT6suH",
        "outputId": "fb540ff8-96c5-48cc-c190-b62a6c3f0afc"
      },
      "source": [
        "URL = \"https://ai.stanford.edu/~amaas/data/sentiment/aclImdb_v1.tar.gz\"\n",
        "\n",
        "dataset = tf.keras.utils.get_file(fname=\"aclImdb_v1.tar.gz\", \n",
        "                                  origin=URL,\n",
        "                                  untar=True,\n",
        "                                  cache_dir='.',\n",
        "                                  cache_subdir='')"
      ],
      "execution_count": null,
      "outputs": [
        {
          "output_type": "stream",
          "name": "stdout",
          "text": [
            "Downloading data from https://ai.stanford.edu/~amaas/data/sentiment/aclImdb_v1.tar.gz\n",
            "84131840/84125825 [==============================] - 1s 0us/step\n",
            "84140032/84125825 [==============================] - 1s 0us/step\n"
          ]
        }
      ]
    },
    {
      "cell_type": "markdown",
      "metadata": {
        "id": "-2CJ9E3a7i2J"
      },
      "source": [
        "## Supprimer les avis non étiquetés:\n",
        "\n",
        "Pour supprimer les avis non étiquetés, nous avons besoin des opérations suivantes. Les commentaires ci-dessous expliquent chaque opération:"
      ]
    },
    {
      "cell_type": "code",
      "metadata": {
        "colab": {
          "base_uri": "https://localhost:8080/"
        },
        "id": "NPSiTuDJ7AtU",
        "outputId": "01ef99e6-1770-4765-bca4-3812709dec45"
      },
      "source": [
        "# The shutil module offers a number of high-level \n",
        "# operations on files and collections of files.\n",
        "import os\n",
        "import shutil\n",
        "# Create main directory path (\"/aclImdb\")\n",
        "main_dir = os.path.join(os.path.dirname(dataset), 'aclImdb')\n",
        "# Create sub directory path (\"/aclImdb/train\")\n",
        "train_dir = os.path.join(main_dir, 'train')\n",
        "# Remove unsup folder since this is a supervised learning task\n",
        "remove_dir = os.path.join(train_dir, 'unsup')\n",
        "shutil.rmtree(remove_dir)\n",
        "# View the final train folder\n",
        "print(os.listdir(train_dir))"
      ],
      "execution_count": null,
      "outputs": [
        {
          "output_type": "stream",
          "name": "stdout",
          "text": [
            "['pos', 'neg', 'urls_unsup.txt', 'unsupBow.feat', 'urls_pos.txt', 'labeledBow.feat', 'urls_neg.txt']\n"
          ]
        }
      ]
    },
    {
      "cell_type": "markdown",
      "metadata": {
        "id": "ab58Sji67cLR"
      },
      "source": [
        "## Formation et test Split:\n",
        "\n",
        "Maintenant que nos données sont nettoyées et préparées, nous pouvons créer text_dataset_from_directoryavec les lignes suivantes. Je souhaite traiter toutes les données en un seul lot. C'est pourquoi j'ai sélectionné une très grande taille de lot:"
      ]
    },
    {
      "cell_type": "code",
      "metadata": {
        "colab": {
          "base_uri": "https://localhost:8080/"
        },
        "id": "YFDhmqjJ7JyI",
        "outputId": "a8de4da8-1a46-4b7f-e551-c71d3781cbea"
      },
      "source": [
        "# We create a training dataset and a validation \n",
        "# dataset from our \"aclImdb/train\" directory with a 80/20 split.\n",
        "train = tf.keras.preprocessing.text_dataset_from_directory(\n",
        "    'aclImdb/train', batch_size=30000, validation_split=0.2, \n",
        "    subset='training', seed=123)\n",
        "test = tf.keras.preprocessing.text_dataset_from_directory(\n",
        "    'aclImdb/train', batch_size=30000, validation_split=0.2, \n",
        "    subset='validation', seed=123)"
      ],
      "execution_count": null,
      "outputs": [
        {
          "output_type": "stream",
          "name": "stdout",
          "text": [
            "Found 25000 files belonging to 2 classes.\n",
            "Using 20000 files for training.\n",
            "Found 25000 files belonging to 2 classes.\n",
            "Using 5000 files for validation.\n"
          ]
        }
      ]
    },
    {
      "cell_type": "markdown",
      "metadata": {
        "id": "VAfvg4q47V6B"
      },
      "source": [
        "## Convertir en pandas pour visualiser et traiter: \n",
        "\n",
        "Maintenant que nous avons nos ensembles de données de base de train et de test, je veux les préparer pour notre modèle BERT. Pour le rendre plus compréhensible, je vais créer un dataframe pandas à partir de notre objet de jeu de données TensorFlow. Le code suivant convertit notre objet Train Dataset pour former le dataframe pandas:"
      ]
    },
    {
      "cell_type": "code",
      "metadata": {
        "colab": {
          "base_uri": "https://localhost:8080/",
          "height": 204
        },
        "id": "DbQZFUyc7Mqr",
        "outputId": "303e7eb0-3097-4373-a012-3cdfe0f9df5f"
      },
      "source": [
        "for i in train.take(1):\n",
        "  train_feat = i[0].numpy()\n",
        "  train_lab = i[1].numpy()\n",
        "\n",
        "train = pd.DataFrame([train_feat, train_lab]).T\n",
        "train.columns = ['DATA_COLUMN', 'LABEL_COLUMN']\n",
        "train['DATA_COLUMN'] = train['DATA_COLUMN'].str.decode(\"utf-8\")\n",
        "train.head()"
      ],
      "execution_count": null,
      "outputs": [
        {
          "output_type": "execute_result",
          "data": {
            "text/html": [
              "<div>\n",
              "<style scoped>\n",
              "    .dataframe tbody tr th:only-of-type {\n",
              "        vertical-align: middle;\n",
              "    }\n",
              "\n",
              "    .dataframe tbody tr th {\n",
              "        vertical-align: top;\n",
              "    }\n",
              "\n",
              "    .dataframe thead th {\n",
              "        text-align: right;\n",
              "    }\n",
              "</style>\n",
              "<table border=\"1\" class=\"dataframe\">\n",
              "  <thead>\n",
              "    <tr style=\"text-align: right;\">\n",
              "      <th></th>\n",
              "      <th>DATA_COLUMN</th>\n",
              "      <th>LABEL_COLUMN</th>\n",
              "    </tr>\n",
              "  </thead>\n",
              "  <tbody>\n",
              "    <tr>\n",
              "      <th>0</th>\n",
              "      <td>Canadian director Vincenzo Natali took the art...</td>\n",
              "      <td>1</td>\n",
              "    </tr>\n",
              "    <tr>\n",
              "      <th>1</th>\n",
              "      <td>I gave this film 10 not because it is a superb...</td>\n",
              "      <td>1</td>\n",
              "    </tr>\n",
              "    <tr>\n",
              "      <th>2</th>\n",
              "      <td>I admit to being somewhat jaded about the movi...</td>\n",
              "      <td>1</td>\n",
              "    </tr>\n",
              "    <tr>\n",
              "      <th>3</th>\n",
              "      <td>For a long time, 'The Menagerie' was my favori...</td>\n",
              "      <td>1</td>\n",
              "    </tr>\n",
              "    <tr>\n",
              "      <th>4</th>\n",
              "      <td>A truly frightening film. Feels as if it were ...</td>\n",
              "      <td>0</td>\n",
              "    </tr>\n",
              "  </tbody>\n",
              "</table>\n",
              "</div>"
            ],
            "text/plain": [
              "                                         DATA_COLUMN LABEL_COLUMN\n",
              "0  Canadian director Vincenzo Natali took the art...            1\n",
              "1  I gave this film 10 not because it is a superb...            1\n",
              "2  I admit to being somewhat jaded about the movi...            1\n",
              "3  For a long time, 'The Menagerie' was my favori...            1\n",
              "4  A truly frightening film. Feels as if it were ...            0"
            ]
          },
          "metadata": {},
          "execution_count": 8
        }
      ]
    },
    {
      "cell_type": "code",
      "metadata": {
        "colab": {
          "base_uri": "https://localhost:8080/",
          "height": 204
        },
        "id": "F8RTKwpE-ALz",
        "outputId": "2c9b635c-2fae-4e73-ac17-2acfa3fc4b77"
      },
      "source": [
        "# je ferai les mêmes opérations pour l'ensemble de données de test avec les lignes suivantes:\n",
        "\n",
        "for j in test.take(1):\n",
        "  test_feat = j[0].numpy()\n",
        "  test_lab = j[1].numpy()\n",
        "\n",
        "test = pd.DataFrame([test_feat, test_lab]).T\n",
        "test.columns = ['DATA_COLUMN', 'LABEL_COLUMN']\n",
        "test['DATA_COLUMN'] = test['DATA_COLUMN'].str.decode(\"utf-8\")\n",
        "test.head()\n"
      ],
      "execution_count": null,
      "outputs": [
        {
          "output_type": "execute_result",
          "data": {
            "text/html": [
              "<div>\n",
              "<style scoped>\n",
              "    .dataframe tbody tr th:only-of-type {\n",
              "        vertical-align: middle;\n",
              "    }\n",
              "\n",
              "    .dataframe tbody tr th {\n",
              "        vertical-align: top;\n",
              "    }\n",
              "\n",
              "    .dataframe thead th {\n",
              "        text-align: right;\n",
              "    }\n",
              "</style>\n",
              "<table border=\"1\" class=\"dataframe\">\n",
              "  <thead>\n",
              "    <tr style=\"text-align: right;\">\n",
              "      <th></th>\n",
              "      <th>DATA_COLUMN</th>\n",
              "      <th>LABEL_COLUMN</th>\n",
              "    </tr>\n",
              "  </thead>\n",
              "  <tbody>\n",
              "    <tr>\n",
              "      <th>0</th>\n",
              "      <td>I can't believe that so much talent can be was...</td>\n",
              "      <td>0</td>\n",
              "    </tr>\n",
              "    <tr>\n",
              "      <th>1</th>\n",
              "      <td>This movie blows - let's get that straight rig...</td>\n",
              "      <td>0</td>\n",
              "    </tr>\n",
              "    <tr>\n",
              "      <th>2</th>\n",
              "      <td>The saddest thing about this \"tribute\" is that...</td>\n",
              "      <td>0</td>\n",
              "    </tr>\n",
              "    <tr>\n",
              "      <th>3</th>\n",
              "      <td>I'm only rating this film as a 3 out of pity b...</td>\n",
              "      <td>0</td>\n",
              "    </tr>\n",
              "    <tr>\n",
              "      <th>4</th>\n",
              "      <td>Something surprised me about this movie - it w...</td>\n",
              "      <td>1</td>\n",
              "    </tr>\n",
              "  </tbody>\n",
              "</table>\n",
              "</div>"
            ],
            "text/plain": [
              "                                         DATA_COLUMN LABEL_COLUMN\n",
              "0  I can't believe that so much talent can be was...            0\n",
              "1  This movie blows - let's get that straight rig...            0\n",
              "2  The saddest thing about this \"tribute\" is that...            0\n",
              "3  I'm only rating this film as a 3 out of pity b...            0\n",
              "4  Something surprised me about this movie - it w...            1"
            ]
          },
          "metadata": {},
          "execution_count": 9
        }
      ]
    },
    {
      "cell_type": "markdown",
      "metadata": {
        "id": "Q4V92A2Q-J6W"
      },
      "source": [
        "## Création de séquences d'entrée :\n",
        "\n",
        "Nous avons deux objets Dataframe pandas qui nous attendent pour les convertir en objets adaptés au modèle BERT. Nous profiterons de la InputExamplefonction qui nous aide à créer des séquences à partir de notre jeu de données. La InputExamplefonction peut être appelée comme suit:"
      ]
    },
    {
      "cell_type": "code",
      "metadata": {
        "colab": {
          "base_uri": "https://localhost:8080/"
        },
        "id": "FmQ1LvAa-Pf5",
        "outputId": "139a1f81-f1f5-42a4-bef2-95b544f021a2"
      },
      "source": [
        "InputExample(guid=None,\n",
        "             text_a = \"Hello, world\",\n",
        "             text_b = None,\n",
        "             label = 1)"
      ],
      "execution_count": null,
      "outputs": [
        {
          "output_type": "execute_result",
          "data": {
            "text/plain": [
              "InputExample(guid=None, text_a='Hello, world', text_b=None, label=1)"
            ]
          },
          "metadata": {},
          "execution_count": 10
        }
      ]
    },
    {
      "cell_type": "markdown",
      "metadata": {
        "id": "StFAYfSQ-Tle"
      },
      "source": [
        "Nous allons maintenant créer deux fonctions principales:\n",
        "\n",
        "1 - convert_data_to_examples: Cela acceptera nos ensembles de données de train et de test et convertira chaque ligne en un objet InputExample.\n",
        "\n",
        "2 - convert_examples_to_tf_dataset: Cette fonction va tokeniser les objets InputExample, puis créer le format d'entrée requis avec les objets tokenisés, enfin, créer un jeu de données d'entrée que nous pouvons alimenter au modèle."
      ]
    },
    {
      "cell_type": "code",
      "metadata": {
        "id": "75litfu8-V8U"
      },
      "source": [
        "def convert_data_to_examples(train, test, DATA_COLUMN, LABEL_COLUMN): \n",
        "  train_InputExamples = train.apply(lambda x: InputExample(guid=None, # Globally unique ID for bookkeeping, unused in this case\n",
        "                                                          text_a = x[DATA_COLUMN], \n",
        "                                                          text_b = None,\n",
        "                                                          label = x[LABEL_COLUMN]), axis = 1)\n",
        "\n",
        "  validation_InputExamples = test.apply(lambda x: InputExample(guid=None, # Globally unique ID for bookkeeping, unused in this case\n",
        "                                                          text_a = x[DATA_COLUMN], \n",
        "                                                          text_b = None,\n",
        "                                                          label = x[LABEL_COLUMN]), axis = 1)\n",
        "  \n",
        "  return train_InputExamples, validation_InputExamples\n",
        "\n",
        "  train_InputExamples, validation_InputExamples = convert_data_to_examples(train, \n",
        "                                                                           test, \n",
        "                                                                           'DATA_COLUMN', \n",
        "                                                                           'LABEL_COLUMN')\n",
        "  \n",
        "def convert_examples_to_tf_dataset(examples, tokenizer, max_length=128):\n",
        "    features = [] # -> will hold InputFeatures to be converted later\n",
        "\n",
        "    for e in examples:\n",
        "        # Documentation is really strong for this method, so please take a look at it\n",
        "        input_dict = tokenizer.encode_plus(\n",
        "            e.text_a,\n",
        "            add_special_tokens=True,\n",
        "            max_length=max_length, # truncates if len(s) > max_length\n",
        "            return_token_type_ids=True,\n",
        "            return_attention_mask=True,\n",
        "            pad_to_max_length=True, # pads to the right by default # CHECK THIS for pad_to_max_length\n",
        "            truncation=True\n",
        "        )\n",
        "\n",
        "        input_ids, token_type_ids, attention_mask = (input_dict[\"input_ids\"],\n",
        "            input_dict[\"token_type_ids\"], input_dict['attention_mask'])\n",
        "\n",
        "        features.append(\n",
        "            InputFeatures(\n",
        "                input_ids=input_ids, attention_mask=attention_mask, token_type_ids=token_type_ids, label=e.label\n",
        "            )\n",
        "        )\n",
        "\n",
        "    def gen():\n",
        "        for f in features:\n",
        "            yield (\n",
        "                {\n",
        "                    \"input_ids\": f.input_ids,\n",
        "                    \"attention_mask\": f.attention_mask,\n",
        "                    \"token_type_ids\": f.token_type_ids,\n",
        "                },\n",
        "                f.label,\n",
        "            )\n",
        "\n",
        "    return tf.data.Dataset.from_generator(\n",
        "        gen,\n",
        "        ({\"input_ids\": tf.int32, \"attention_mask\": tf.int32, \"token_type_ids\": tf.int32}, tf.int64),\n",
        "        (\n",
        "            {\n",
        "                \"input_ids\": tf.TensorShape([None]),\n",
        "                \"attention_mask\": tf.TensorShape([None]),\n",
        "                \"token_type_ids\": tf.TensorShape([None]),\n",
        "            },\n",
        "            tf.TensorShape([]),\n",
        "        ),\n",
        "    )\n",
        "\n",
        "\n",
        "DATA_COLUMN = 'DATA_COLUMN'\n",
        "LABEL_COLUMN = 'LABEL_COLUMN'"
      ],
      "execution_count": null,
      "outputs": []
    },
    {
      "cell_type": "markdown",
      "metadata": {
        "id": "Fx1qaXzQ-jyo"
      },
      "source": [
        "Nous pouvons appeler les fonctions que nous avons créées ci-dessus avec les lignes suivantes:"
      ]
    },
    {
      "cell_type": "code",
      "metadata": {
        "colab": {
          "base_uri": "https://localhost:8080/"
        },
        "id": "OJ-5Flyu-kn7",
        "outputId": "24f95395-c9c2-4753-d5de-7deb62758e7c"
      },
      "source": [
        "train_InputExamples, validation_InputExamples = convert_data_to_examples(train, test, DATA_COLUMN, LABEL_COLUMN)\n",
        "\n",
        "train_data = convert_examples_to_tf_dataset(list(train_InputExamples), tokenizer)\n",
        "train_data = train_data.shuffle(100).batch(32).repeat(2)\n",
        "\n",
        "validation_data = convert_examples_to_tf_dataset(list(validation_InputExamples), tokenizer)\n",
        "validation_data = validation_data.batch(32)"
      ],
      "execution_count": null,
      "outputs": [
        {
          "output_type": "stream",
          "name": "stderr",
          "text": [
            "/usr/local/lib/python3.7/dist-packages/transformers/tokenization_utils_base.py:2204: FutureWarning: The `pad_to_max_length` argument is deprecated and will be removed in a future version, use `padding=True` or `padding='longest'` to pad to the longest sequence in the batch, or use `padding='max_length'` to pad to a max length. In this case, you can give a specific length with `max_length` (e.g. `max_length=45`) or leave max_length to None to pad to the maximal input size of the model (e.g. 512 for Bert).\n",
            "  FutureWarning,\n"
          ]
        }
      ]
    },
    {
      "cell_type": "markdown",
      "metadata": {
        "id": "Kh0tZMSl-96j"
      },
      "source": [
        "Notre jeu de données contenant des séquences d'entrée traitées est prêt à être introduit dans le modèle."
      ]
    },
    {
      "cell_type": "markdown",
      "metadata": {
        "id": "9IrfOOZB_Aer"
      },
      "source": [
        "## Configuration du modèle BERT et mise au point\n",
        "\n",
        "Nous utiliserons Adam comme optimiseur, CategoricalCrossentropy comme fonction de perte et SparseCategoricalAccuracy comme mesure de précision. Le réglage fin du modèle pour 2 époques nous donnera une précision d'environ 95%, ce qui est excellent."
      ]
    },
    {
      "cell_type": "code",
      "metadata": {
        "colab": {
          "base_uri": "https://localhost:8080/"
        },
        "id": "c5KHBU4q_E8q",
        "outputId": "214238c4-1f72-49e7-b7ba-70347f5e2b50"
      },
      "source": [
        "model.compile(optimizer=tf.keras.optimizers.Adam(learning_rate=3e-5, epsilon=1e-08, clipnorm=1.0), \n",
        "              loss=tf.keras.losses.SparseCategoricalCrossentropy(from_logits=True), \n",
        "              metrics=[tf.keras.metrics.SparseCategoricalAccuracy('accuracy')])\n",
        "\n",
        "model.fit(train_data, epochs=2, validation_data=validation_data)"
      ],
      "execution_count": null,
      "outputs": [
        {
          "output_type": "stream",
          "name": "stdout",
          "text": [
            "Epoch 1/2\n",
            "WARNING:tensorflow:The parameters `output_attentions`, `output_hidden_states` and `use_cache` cannot be updated when calling a model.They have to be set to True/False in the config object (i.e.: `config=XConfig.from_pretrained('name', output_attentions=True)`).\n",
            "WARNING:tensorflow:AutoGraph could not transform <bound method Socket.send of <zmq.Socket(zmq.PUSH) at 0x7f49dce19f30>> and will run it as-is.\n",
            "Please report this to the TensorFlow team. When filing the bug, set the verbosity to 10 (on Linux, `export AUTOGRAPH_VERBOSITY=10`) and attach the full output.\n",
            "Cause: module, class, method, function, traceback, frame, or code object was expected, got cython_function_or_method\n",
            "To silence this warning, decorate the function with @tf.autograph.experimental.do_not_convert\n",
            "WARNING: AutoGraph could not transform <bound method Socket.send of <zmq.Socket(zmq.PUSH) at 0x7f49dce19f30>> and will run it as-is.\n",
            "Please report this to the TensorFlow team. When filing the bug, set the verbosity to 10 (on Linux, `export AUTOGRAPH_VERBOSITY=10`) and attach the full output.\n",
            "Cause: module, class, method, function, traceback, frame, or code object was expected, got cython_function_or_method\n",
            "To silence this warning, decorate the function with @tf.autograph.experimental.do_not_convert\n",
            "WARNING:tensorflow:AutoGraph could not transform <function wrap at 0x7f49f7fcf950> and will run it as-is.\n",
            "Cause: while/else statement not yet supported\n",
            "To silence this warning, decorate the function with @tf.autograph.experimental.do_not_convert\n",
            "WARNING: AutoGraph could not transform <function wrap at 0x7f49f7fcf950> and will run it as-is.\n",
            "Cause: while/else statement not yet supported\n",
            "To silence this warning, decorate the function with @tf.autograph.experimental.do_not_convert\n",
            "WARNING:tensorflow:The parameter `return_dict` cannot be set in graph mode and will always be set to `True`.\n",
            "WARNING:tensorflow:The parameters `output_attentions`, `output_hidden_states` and `use_cache` cannot be updated when calling a model.They have to be set to True/False in the config object (i.e.: `config=XConfig.from_pretrained('name', output_attentions=True)`).\n",
            "WARNING:tensorflow:The parameter `return_dict` cannot be set in graph mode and will always be set to `True`.\n",
            "   1250/Unknown - 1070s 814ms/step - loss: 0.2662 - accuracy: 0.8856WARNING:tensorflow:The parameters `output_attentions`, `output_hidden_states` and `use_cache` cannot be updated when calling a model.They have to be set to True/False in the config object (i.e.: `config=XConfig.from_pretrained('name', output_attentions=True)`).\n",
            "WARNING:tensorflow:The parameter `return_dict` cannot be set in graph mode and will always be set to `True`.\n",
            "1250/1250 [==============================] - 1116s 850ms/step - loss: 0.2662 - accuracy: 0.8856 - val_loss: 0.2887 - val_accuracy: 0.8854\n",
            "Epoch 2/2\n",
            "1250/1250 [==============================] - 1065s 852ms/step - loss: 0.0721 - accuracy: 0.9747 - val_loss: 0.4660 - val_accuracy: 0.8812\n"
          ]
        },
        {
          "output_type": "execute_result",
          "data": {
            "text/plain": [
              "<keras.callbacks.History at 0x7f4885ec5690>"
            ]
          },
          "metadata": {},
          "execution_count": 13
        }
      ]
    },
    {
      "cell_type": "markdown",
      "metadata": {
        "id": "BbRraR9t_Jy3"
      },
      "source": [
        "L'entraînement du modèle peut prendre un certain temps, alors assurez-vous d'avoir activé l'accélération GPU à partir des paramètres du notebook. Une fois notre formation terminée, nous pouvons passer à la prédiction des sentiments.\n",
        "\n",
        "## Faire des prédictions\n",
        "J'ai créé une liste de deux avis que j'ai créés. Le premier est un avis positif, tandis que le second est clairement négatif."
      ]
    },
    {
      "cell_type": "code",
      "metadata": {
        "id": "9pN5A6ru_lsQ"
      },
      "source": [
        "pred_sentences = ['This was an awesome movie. I watch it twice my time watching this beautiful movie if I have known it was this good',\n",
        "                  'One of the worst movies of all time. I cannot believe I wasted two hours of my life for this movie']\n"
      ],
      "execution_count": null,
      "outputs": []
    },
    {
      "cell_type": "markdown",
      "metadata": {
        "id": "UEuU33LB_zld"
      },
      "source": [
        "Nous devons tokeniser nos avis avec notre tokenizer BERT pré-formé. Nous allons ensuite transmettre ces séquences tokenisées à notre modèle et exécuter une couche softmax finale pour obtenir les prédictions. Nous pouvons ensuite utiliser la argmaxfonction pour déterminer si notre prédiction de sentiment pour l'avis est positive ou négative. Enfin, nous imprimerons les résultats avec une simple boucle for. Les lignes suivantes effectuent toutes ces opérations:"
      ]
    },
    {
      "cell_type": "code",
      "metadata": {
        "colab": {
          "base_uri": "https://localhost:8080/"
        },
        "id": "0qT85RL2AIn2",
        "outputId": "6b724065-580e-4d13-f91b-7061515ad790"
      },
      "source": [
        "tf_batch = tokenizer(pred_sentences, max_length=128, padding=True, truncation=True, return_tensors='tf')\n",
        "tf_outputs = model(tf_batch)\n",
        "tf_predictions = tf.nn.softmax(tf_outputs[0], axis=-1)\n",
        "labels = ['Negative','Positive']\n",
        "label = tf.argmax(tf_predictions, axis=1)\n",
        "label = label.numpy()\n",
        "for i in range(len(pred_sentences)):\n",
        "  print(pred_sentences[i], \": \\n\", labels[label[i]])"
      ],
      "execution_count": null,
      "outputs": [
        {
          "output_type": "stream",
          "name": "stdout",
          "text": [
            "This was an awesome movie. I watch it twice my time watching this beautiful movie if I have known it was this good : \n",
            " Positive\n",
            "One of the worst movies of all time. I cannot believe I wasted two hours of my life for this movie : \n",
            " Negative\n"
          ]
        }
      ]
    }
  ]
}